{
 "cells": [
  {
   "cell_type": "code",
   "execution_count": 1,
   "id": "6fe5a179",
   "metadata": {},
   "outputs": [
    {
     "data": {
      "text/plain": [
       "[<matplotlib.lines.Line2D at 0x154d59bae80>]"
      ]
     },
     "execution_count": 1,
     "metadata": {},
     "output_type": "execute_result"
    },
    {
     "data": {
      "image/png": "[encoded data removed]",
      "text/plain": [
       "<Figure size 432x288 with 1 Axes>"
      ]
     },
     "metadata": {
      "needs_background": "light"
     },
     "output_type": "display_data"
    }
   ],
   "source": [
    "import numpy as np\n",
    "from scipy.integrate import odeint\n",
    "import matplotlib.pyplot as plt\n",
    "\n",
    "def odes(x,t,K,u):\n",
    "    Ka = 1    #Glucose absorbtion rate\n",
    "    Ki = 4   # Insulin rate \n",
    "    Ke = 1   # glucose converstion rate due to Insulin\n",
    "     \n",
    "    \n",
    "    G = x[0]\n",
    "    I = x[1]\n",
    "    C = x[2]\n",
    "    \n",
    "    dGdt = -Ka*G + K*u\n",
    "    dIdt = -Ki*I\n",
    "    dCdt = Ka*G + Ki*I - Ke*C\n",
    "    \n",
    "    return [dGdt, dIdt, dCdt]\n",
    "\n",
    "G0 = 0\n",
    "I0 = 50\n",
    "C0 = 0   \n",
    "x0 = [G0,I0,C0]\n",
    "    \n",
    "t = np.linspace(0,10,11)\n",
    "K= 1\n",
    "u= np.zeros(len(t))\n",
    "u[1:] =20\n",
    "\n",
    "xs = np.zeros((len(t),3))\n",
    "xs[0] = x0\n",
    "\n",
    "for i in range(len(t)-1):\n",
    "    ts= [t[i],t[i+1]]\n",
    "    x = odeint(odes, x0, ts, args=(K,u[i]))\n",
    "    x0 = x[1]\n",
    "    xs[i] = x0\n",
    "    \n",
    "    \n",
    "G = xs[:,0]\n",
    "I = xs[:,1]\n",
    "C = xs[:,2]\n",
    "    \n",
    "plt.plot(t,G, \"r\")\n",
    "plt.plot(t,I, \"g\")\n",
    "plt.plot(t,C, \"b\")\n",
    "    \n",
    "    "
   ]
  },
  {
   "cell_type": "code",
   "execution_count": 2,
   "id": "fb4649cc",
   "metadata": {},
   "outputs": [
    {
     "name": "stdout",
     "output_type": "stream",
     "text": [
      "[[0.00000000e+00 9.15781992e-01 2.33042534e+01]\n",
      " [1.26424112e+01 1.67731318e-02 1.42848104e+01]\n",
      " [1.72932942e+01 3.07211826e-04 1.51986114e+01]\n",
      " [1.90042583e+01 5.62773380e-06 1.72380696e+01]\n",
      " [1.96336869e+01 1.03286257e-07 1.86176322e+01]\n",
      " [1.98652406e+01 1.91788712e-09 1.93566962e+01]\n",
      " [1.99504250e+01 3.59283676e-11 1.97137666e+01]\n",
      " [1.99817624e+01 6.59948145e-13 1.98764629e+01]\n",
      " [1.99932908e+01 1.26807943e-14 1.99478440e+01]\n",
      " [1.99975318e+01 2.49536998e-16 1.99783447e+01]\n",
      " [0.00000000e+00 0.00000000e+00 0.00000000e+00]]\n",
      "[[0. 0. 0.]\n",
      " [0. 0. 0.]\n",
      " [0. 0. 0.]\n",
      " [0. 0. 0.]\n",
      " [0. 0. 0.]]\n"
     ]
    }
   ],
   "source": [
    "print (xs)\n",
    "d = np.zeros((5,3))\n",
    "print(d)"
   ]
  },
  {
   "cell_type": "code",
   "execution_count": null,
   "id": "05c91f55",
   "metadata": {},
   "outputs": [],
   "source": [
    "G0 = G[1]\n",
    "    I0 = I[1]\n",
    "    C0 = C[1]\n",
    "    Gs[i+1] = G0\n",
    "    Is[i+1] = I0\n",
    "    Cs[i+1] = C0\n",
    "    "
   ]
  }
 ],
 "metadata": {
  "kernelspec": {
   "display_name": "Python 3",
   "language": "python",
   "name": "python3"
  },
  "language_info": {
   "codemirror_mode": {
    "name": "ipython",
    "version": 3
   },
   "file_extension": ".py",
   "mimetype": "text/x-python",
   "name": "python",
   "nbconvert_exporter": "python",
   "pygments_lexer": "ipython3",
   "version": "3.8.8"
  }
 },
 "nbformat": 4,
 "nbformat_minor": 5
}
