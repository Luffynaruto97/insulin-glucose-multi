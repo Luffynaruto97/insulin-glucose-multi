{
 "cells": [
  {
   "cell_type": "code",
   "execution_count": 1,
   "id": "42e817be",
   "metadata": {},
   "outputs": [
    {
     "ename": "SyntaxError",
     "evalue": "invalid syntax (<ipython-input-1-98a856cb532b>, line 6)",
     "output_type": "error",
     "traceback": [
      "\u001b[1;36m  File \u001b[1;32m\"<ipython-input-1-98a856cb532b>\"\u001b[1;36m, line \u001b[1;32m6\u001b[0m\n\u001b[1;33m    Kag =       # First order absorbtion\u001b[0m\n\u001b[1;37m                ^\u001b[0m\n\u001b[1;31mSyntaxError\u001b[0m\u001b[1;31m:\u001b[0m invalid syntax\n"
     ]
    }
   ],
   "source": [
    "import numpy as np\n",
    "from scipy.integrate import odeint\n",
    "import matplotlib.pyplot as plt\n",
    "\n",
    "def odes(x,t):\n",
    "    Kag = 0.0151     # First order absorbtion \n",
    "    Gprod     # endogenous glucose produced\n",
    "    Q =         # Intercompartmental Clearance\n",
    "    CLg =       # Insulin independent clearance\n",
    "    CLgi =      # Insulin dependent clearance\n",
    "    Gss =       # Glucose in central compartment at steady state\n",
    "    Kge =       # equilibration rate constant\n",
    "    Iss =       # Insulin concetration at steady state\n",
    "    Cli =       # Insulin clearance\n",
    "    Isec =      # Endogenous insulin secretion\n",
    "    Isec0 =     # Baseline insulin secretion\n",
    "    Gcm =       # Fraction of Insulin secretion regulated by glucose concentration \n",
    "    Iabsg     # Fraction of insulin secretion triggered by the incretin effect following glucose absorbtion from the gut\n",
    "    Sincr = 0.000994 # Slope of linear relation ship\n",
    "    Kie = 0.00773     # Equilibratio rate constant to and from the Insulin effect compartment\n",
    "    IPRG = 1.42 # Estimated Power in the relation ship\n",
    "    Vp = 8.56   # Volume of peripheral \n",
    "    Vg = 9.33   # Volume of central\n",
    "    Vi = 6.09   # Volume of Insulin\n",
    "    \n",
    "\n",
    "    Ga = x[0]\n",
    "    Gc = x[1]\n",
    "    Gp = x[2]\n",
    "    Ge = x[3]\n",
    "    I  = x[4]\n",
    "    Ie = x[5]\n",
    "    \n",
    "    dGadt = -Ga*Kag # IC Ga = 0 \n",
    "    dGcdt = Kag*Ga + Gprod + (Q/Vp)* Gp-(CLg+ CLgi + Ie + Q)*(Gc/Vg) #IC Gc0 = Gss * Vg\n",
    "    dGpdt = Q* ((Gc/Vg) - (Gp/Vp) # IC Gp0 = Gss * Vp\n",
    "    dGedt = Kge*(Gc/Vg) - Kge*Ge  # IC Ge0 = Gss\n",
    "    dIdt  = Isec - (CLi/Vi)*I     # IC I0 = Iss * Vi\n",
    "    dIedt = Kie *(I/Vi) - Kie*Ie  # IC Ie0 = Iss\n",
    "    Gprod = Gss* (CLg + (Clgi*Iss))\n",
    "    Isec0 = Isec - (CLi/Vi)*I\n",
    "    Gcm   = (Ge/Gss)^IPRG\n",
    "    Iabsg = 1 + Sincr*Ga\n",
    "    Isec  = Isec0 * Gcm * Iabsg\n",
    "    \n",
    "    "
   ]
  },
  {
   "cell_type": "code",
   "execution_count": null,
   "id": "9671d8ec",
   "metadata": {},
   "outputs": [],
   "source": []
  }
 ],
 "metadata": {
  "kernelspec": {
   "display_name": "Python 3",
   "language": "python",
   "name": "python3"
  },
  "language_info": {
   "codemirror_mode": {
    "name": "ipython",
    "version": 3
   },
   "file_extension": ".py",
   "mimetype": "text/x-python",
   "name": "python",
   "nbconvert_exporter": "python",
   "pygments_lexer": "ipython3",
   "version": "3.8.8"
  }
 },
 "nbformat": 4,
 "nbformat_minor": 5
}
