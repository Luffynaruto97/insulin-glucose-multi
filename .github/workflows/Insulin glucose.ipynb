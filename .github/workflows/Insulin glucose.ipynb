{
 "cells": [
  {
   "cell_type": "code",
   "execution_count": 13,
   "id": "da890a51",
   "metadata": {},
   "outputs": [
    {
     "ename": "SyntaxError",
     "evalue": "invalid syntax (<ipython-input-13-e9c45683c646>, line 44)",
     "output_type": "error",
     "traceback": [
      "\u001b[1;36m  File \u001b[1;32m\"<ipython-input-13-e9c45683c646>\"\u001b[1;36m, line \u001b[1;32m44\u001b[0m\n\u001b[1;33m    x0 = [100, , Gss * Vp, Gss, Iss * Vi, Iss ]\u001b[0m\n\u001b[1;37m               ^\u001b[0m\n\u001b[1;31mSyntaxError\u001b[0m\u001b[1;31m:\u001b[0m invalid syntax\n"
     ]
    }
   ],
   "source": [
    "import numpy as np\n",
    "from scipy.integrate import odeint\n",
    "import matplotlib.pyplot as plt\n",
    "from tabulate import tabulate\n",
    "\n",
    "def odes (x,t):\n",
    "    Kag = 0.0151     # First order absorbtion \n",
    "    Gprod = Gss* (CLg + (Clgi*Iss))            # endogenous glucose produced\n",
    "    Q = 0.442        # Intercompartmental Clearance\n",
    "    CLg = 0.0287     # Insulin independent clearance\n",
    "    CLgi = 0.0074    # Insulin dependent clearance\n",
    "    Gss = 158        # Glucose in central compartment at steady state\n",
    "    Kge = 0.123      # equilibration rate constant\n",
    "    Iss = 10         # Insulin concetration at steady state\n",
    "    Cli = 1.22       # Insulin clearance\n",
    "    Sincr = 0.000994 # Slope of linear relation ship\n",
    "    Kie = 0.00773    # Equilibratio rate constant to and from the Insulin effect compartment\n",
    "    IPRG = 1.42      # Estimated Power in the relation ship\n",
    "    Vp = 8.56        # Volume of peripheral \n",
    "    Vg = 9.33        # Volume of central\n",
    "    Vi = 6.09        # Volume of Insulin\n",
    "    Isec0 = Isec - (CLi/Vi)*I           # Baseline insulin secretion\n",
    "    Gcm = (Ge/Gss)^IPRG             # Fraction of Insulin secretion regulated by glucose concentration \n",
    "    Iabsg = 1 + Sincr*Ga           # Fraction of insulin secretion triggered by the incretin effect following glucose absorbtion from the gut\n",
    "    Isec = Isec0 * Gcm * Iabsg            # Endogenous insulin secretion\n",
    "    \n",
    "\n",
    "    Ga = x[0]\n",
    "    Gc = x[1]\n",
    "    Gp = x[2]\n",
    "    Ge = x[3]\n",
    "    I  = x[4]\n",
    "    Ie = x[5]\n",
    "    \n",
    "    dGadt = -Ga*Kag     # IC Ga = 0 \n",
    "    dGcdt = Kag*Ga + Gprod + (Q/Vp)* Gp-(CLg+ CLgi + Ie + Q)*(Gc/Vg) #IC Gc0 = Gss * Vg\n",
    "    dGpdt = Q * ((Gc/Vg) - (Gp/Vp)) # IC Gp0 = Gss * Vp\n",
    "    dGedt = Kge * (Gc/Vg) - Kge * Ge  # IC Ge0 = Gss  \n",
    "    dIdt  = Isec - (CLi/Vi) * I     # IC I0 = Iss * Vi\n",
    "    dIedt = Kie * (I/Vi) - Kie * Ie  # IC Ie0 = Iss\n",
    "    \n",
    "    return [dGadt, dGcdt, dGpdt, dGedt, dIdt, dIedt]\n",
    "                \n",
    "x0 = [100, , Gss * Vp, Gss, Iss * Vi, Iss ]   \n",
    "    \n",
    "t = np.linspace(0,500,120)\n",
    "    \n",
    "x = odeint(odes,x0,t)\n",
    "    \n",
    "print(odes(x=x0,t=0))\n",
    "    \n",
    "plt.plot(t,Ga)\n",
    "plt.plot(t,Gc)\n",
    "plt.plot(t,Gp)\n",
    "plt.plot(t,Ge)\n",
    "plt.plot(t,I)\n",
    "plt.plot(t,Ie)\n",
    "plt.show()"
   ]
  },
  {
   "cell_type": "code",
   "execution_count": null,
   "id": "e0751580",
   "metadata": {},
   "outputs": [],
   "source": []
  },
  {
   "cell_type": "code",
   "execution_count": 43,
   "id": "987181cc",
   "metadata": {},
   "outputs": [
    {
     "name": "stdout",
     "output_type": "stream",
     "text": [
      "[-1.51, -1617.1489943925235, 49.18179439252337, -17.465999999999998, 21.137626875732675, 0.0]\n"
     ]
    },
    {
     "data": {
      "image/png": "[encoded data removed]",
      "text/plain": [
       "<Figure size 432x288 with 1 Axes>"
      ]
     },
     "metadata": {
      "needs_background": "light"
     },
     "output_type": "display_data"
    }
   ],
   "source": [
    "import numpy as np\n",
    "from scipy.integrate import odeint\n",
    "import matplotlib.pyplot as plt\n",
    " \n",
    "def odes (x,t):\n",
    "    Kag = 0.0151     # First order absorbtion \n",
    "    Q = 0.442        # Intercompartmental Clearance\n",
    "    CLg = 0.0287     # Insulin independent clearance\n",
    "    CLgi = 0.0074    # Insulin dependent clearance\n",
    "    Gss = 158        # Glucose in central compartment at steady state\n",
    "    Kge = 0.123      # equilibration rate constant\n",
    "    Iss = 10         # Insulin concetration at steady state\n",
    "    CLi = 1.22       # Insulin clearance\n",
    "    Sincr = 0.000994 # Slope of linear relation ship\n",
    "    Kie = 0.00773    # Equilibratio rate constant to and from the Insulin effect compartment\n",
    "    IPRG = 1.42      # Estimated Power in the relation ship\n",
    "    Vp = 8.56        # Volume of peripheral \n",
    "    Vg = 9.33        # Volume of central\n",
    "    Vi = 6.09        # Volume of Insulin\n",
    "    \n",
    "\n",
    "    Ga    = x[0]\n",
    "    Gc    = x[1]\n",
    "    Gp    = x[2]\n",
    "    Ge    = x[3]\n",
    "    I     = x[4]\n",
    "    Ie    = x[5]\n",
    "    \n",
    "    Gprod = Gss* (CLg + (CLgi*Iss))\n",
    "    Gcm   = (Ge/Gss)**IPRG\n",
    "    Iabsg = 1 + Sincr*Ga\n",
    "    Isec0 = CLi * Iss\n",
    "    Isec  = Isec0 * Gcm * Iabsg\n",
    "    #Isec0 = Isec - (CLi/Vi)*I\n",
    "    \n",
    "    \n",
    "    \n",
    "    dGadt = -Ga*Kag     # IC Ga = 0 \n",
    "    dGcdt = Kag*Ga + Gprod + (Q/Vp)* Gp-(CLg+ CLgi + Ie + Q)*(Gc/Vg) #IC Gc0 = Gss * Vg\n",
    "    dGpdt = Q * ((Gc/Vg) - (Gp/Vp)) # IC Gp0 = Gss * Vp\n",
    "    dGedt = Kge * (Gc/Vg) - Kge * Ge  # IC Ge0 = Gss  \n",
    "    dIdt  = Isec - (CLi/Vi) * I     # IC I0 = Iss * Vi\n",
    "    dIedt = Kie * (I/Vi) - Kie * Ie  # IC Ie0 = Iss\n",
    "    \n",
    "    \n",
    "    return [dGadt, dGcdt, dGpdt, dGedt, dIdt, dIedt]\n",
    "\n",
    "Gss = 158        # Glucose in central compartment at steady state\n",
    "Vg = 9.33        # Volume of central\n",
    "Iss = 10         # Insulin concetration at steady state\n",
    "Vi = 6.09        # Volume of Insulin\n",
    "CLi = 1.22       # Insulin clearance\n",
    "#Isec0 = CLi * Iss\n",
    "#I0 = Iss*Vi\n",
    "\n",
    "x0 = [100, Gss*Vg, 400, 300, Iss*Vi, 10 ] \n",
    "\n",
    "print(odes(x=x0,t=0))\n",
    "\n",
    "t = np.linspace(0,500)\n",
    "    \n",
    "x = odeint(odes,x0,t)\n",
    "    \n",
    "Ga    = x[:,0]\n",
    "Gc    = x[:,1]\n",
    "Gp    = x[:,2]\n",
    "Ge    = x[:,3]\n",
    "I     = x[:,4]\n",
    "Ie    = x[:,5]\n",
    "    \n",
    "\n",
    "plt.plot(t,Ga, \"g\")\n",
    "plt.plot(t,Gc, \"b\")\n",
    "plt.plot(t,Gp, \"r\")\n",
    "plt.plot(t,Ge, \"y\")\n",
    "plt.yscale(\"log\")\n",
    "zplt.show()\n",
    "    \n",
    "    \n",
    "    "
   ]
  },
  {
   "cell_type": "code",
   "execution_count": 44,
   "id": "375b7691",
   "metadata": {},
   "outputs": [
    {
     "data": {
      "image/png": "[encoded data removed]",
      "text/plain": [
       "<Figure size 432x288 with 1 Axes>"
      ]
     },
     "metadata": {
      "needs_background": "light"
     },
     "output_type": "display_data"
    }
   ],
   "source": [
    "plt.plot(t,I,  \"b\")\n",
    "plt.plot(t,Ie, \"r\")\n",
    "plt.yscale(\"log\")\n",
    "plt.show()"
   ]
  },
  {
   "cell_type": "code",
   "execution_count": null,
   "id": "5977b762",
   "metadata": {},
   "outputs": [],
   "source": [
    "Isec0            # Baseline insulin secretion\n",
    "    Gcm              # Fraction of Insulin secretion regulated by glucose concentration \n",
    "    Iabsg            # Fraction of insulin secretion triggered by the incretin effect following glucose absorbtion from the gut\n",
    "    Isec             # Endogenous insulin secretion\n",
    "    Gprod             # endogenous glucose produced"
   ]
  },
  {
   "cell_type": "code",
   "execution_count": 19,
   "id": "9b7517a8",
   "metadata": {},
   "outputs": [
    {
     "ename": "NameError",
     "evalue": "name 'Gss' is not defined",
     "output_type": "error",
     "traceback": [
      "\u001b[1;31m---------------------------------------------------------------------------\u001b[0m",
      "\u001b[1;31mNameError\u001b[0m                                 Traceback (most recent call last)",
      "\u001b[1;32m<ipython-input-19-fc38da84f001>\u001b[0m in \u001b[0;36m<module>\u001b[1;34m\u001b[0m\n\u001b[0;32m     51\u001b[0m     \u001b[1;32mreturn\u001b[0m \u001b[1;33m[\u001b[0m\u001b[0mdGadt\u001b[0m\u001b[1;33m,\u001b[0m \u001b[0mdGcdt\u001b[0m\u001b[1;33m,\u001b[0m \u001b[0mdGpdt\u001b[0m\u001b[1;33m,\u001b[0m \u001b[0mdGedt\u001b[0m\u001b[1;33m,\u001b[0m \u001b[0mdIdt\u001b[0m\u001b[1;33m,\u001b[0m \u001b[0mdIedt\u001b[0m\u001b[1;33m]\u001b[0m\u001b[1;33m\u001b[0m\u001b[1;33m\u001b[0m\u001b[0m\n\u001b[0;32m     52\u001b[0m \u001b[1;33m\u001b[0m\u001b[0m\n\u001b[1;32m---> 53\u001b[1;33m \u001b[0mx0\u001b[0m \u001b[1;33m[\u001b[0m\u001b[1;36m100\u001b[0m\u001b[1;33m,\u001b[0m \u001b[0mGss\u001b[0m \u001b[1;33m*\u001b[0m \u001b[0mVg\u001b[0m\u001b[1;33m,\u001b[0m \u001b[0mGss\u001b[0m \u001b[1;33m*\u001b[0m \u001b[0mVp\u001b[0m\u001b[1;33m,\u001b[0m \u001b[0mGss\u001b[0m\u001b[1;33m,\u001b[0m \u001b[0mIss\u001b[0m \u001b[1;33m*\u001b[0m \u001b[0mVi\u001b[0m\u001b[1;33m,\u001b[0m \u001b[0mIss\u001b[0m\u001b[1;33m,\u001b[0m\u001b[1;36m300\u001b[0m\u001b[1;33m,\u001b[0m \u001b[1;36m10\u001b[0m\u001b[1;33m,\u001b[0m \u001b[1;36m0.2\u001b[0m\u001b[1;33m,\u001b[0m \u001b[1;36m0.3\u001b[0m\u001b[1;33m,\u001b[0m \u001b[1;36m15\u001b[0m \u001b[1;33m]\u001b[0m\u001b[1;33m\u001b[0m\u001b[1;33m\u001b[0m\u001b[0m\n\u001b[0m\u001b[0;32m     54\u001b[0m \u001b[1;33m\u001b[0m\u001b[0m\n\u001b[0;32m     55\u001b[0m \u001b[0mt\u001b[0m \u001b[1;33m=\u001b[0m \u001b[0mnp\u001b[0m\u001b[1;33m.\u001b[0m\u001b[0mlinspace\u001b[0m\u001b[1;33m(\u001b[0m\u001b[1;36m0\u001b[0m\u001b[1;33m,\u001b[0m\u001b[1;36m500\u001b[0m\u001b[1;33m)\u001b[0m\u001b[1;33m\u001b[0m\u001b[1;33m\u001b[0m\u001b[0m\n",
      "\u001b[1;31mNameError\u001b[0m: name 'Gss' is not defined"
     ]
    }
   ],
   "source": [
    "import numpy as np\n",
    "from scipy.integrate import odeint\n",
    "import matplotlib.pyplot as plt\n",
    "\n",
    "def odes (x,t):\n",
    "    Kag = 0.0151     # First order absorbtion \n",
    "    Gprod             # endogenous glucose produced\n",
    "    Q = 0.442        # Intercompartmental Clearance\n",
    "    CLg = 0.0287     # Insulin independent clearance\n",
    "    CLgi = 0.0074    # Insulin dependent clearance\n",
    "    Gss = 158        # Glucose in central compartment at steady state\n",
    "    Kge = 0.123      # equilibration rate constant\n",
    "    Iss = 10         # Insulin concetration at steady state\n",
    "    Cli = 1.22       # Insulin clearance\n",
    "    Sincr = 0.000994 # Slope of linear relation ship\n",
    "    Kie = 0.00773    # Equilibratio rate constant to and from the Insulin effect compartment\n",
    "    IPRG = 1.42      # Estimated Power in the relation ship\n",
    "    Vp = 8.56        # Volume of peripheral \n",
    "    Vg = 9.33        # Volume of central\n",
    "    Vi = 6.09        # Volume of Insulin\n",
    "    Isec0            # Baseline insulin secretion\n",
    "    Gcm              # Fraction of Insulin secretion regulated by glucose concentration \n",
    "    Iabsg            # Fraction of insulin secretion triggered by the incretin effect following glucose absorbtion from the gut\n",
    "    Isec             # Endogenous insulin secretion\n",
    "    \n",
    "\n",
    "    Ga    = x[0]\n",
    "    Gc    = x[1]\n",
    "    Gp    = x[2]\n",
    "    Ge    = x[3]\n",
    "    I     = x[4]\n",
    "    Ie    = x[5]\n",
    "    Gprod = x[6]\n",
    "    Isec0 = x[7]\n",
    "    Gcm   = x[8]\n",
    "    Iabsg = x[9]\n",
    "    Isec  = x[10]\n",
    "    \n",
    "    dGadt = -Ga*Kag     # IC Ga = 0 \n",
    "    dGcdt = Kag*Ga + Gprod + (Q/Vp)* Gp-(CLg+ CLgi + Ie + Q)*(Gc/Vg) #IC Gc0 = Gss * Vg\n",
    "    dGpdt = Q * ((Gc/Vg) - (Gp/Vp)) # IC Gp0 = Gss * Vp\n",
    "    dGedt = Kge * (Gc/Vg) - Kge * Ge  # IC Ge0 = Gss  \n",
    "    dIdt  = Isec - (CLi/Vi) * I     # IC I0 = Iss * Vi\n",
    "    dIedt = Kie * (I/Vi) - Kie * Ie  # IC Ie0 = Iss\n",
    "    Gprod = Gss* (CLg + (Clgi*Iss))\n",
    "    Isec0 = Isec - (CLi/Vi)*I\n",
    "    Gcm   = (Ge/Gss)^IPRG\n",
    "    Iabsg = 1 + Sincr*Ga\n",
    "    Isec  = Isec0 * Gcm * Iabsg\n",
    "    \n",
    "    return [dGadt, dGcdt, dGpdt, dGedt, dIdt, dIedt]\n",
    "                \n",
    "x0 [100, Gss * Vg, Gss * Vp, Gss, Iss * Vi, Iss,300, 10, 0.2, 0.3, 15 ]    \n",
    "    \n",
    "t = np.linspace(0,500)\n",
    "    \n",
    "x = odeint(odes,x0,t)\n",
    "    \n",
    "print(odes(x=x0,t=0))\n",
    "    \n",
    "plt.plot(t,Ga)\n",
    "plt.plot(t,Gc)\n",
    "plt.plot(t,Gp)\n",
    "plt.plot(t,Ge)\n",
    "plt.plot(t,I)\n",
    "plt.plot(t,Ie)\n",
    "plt.show()\n",
    "    \n",
    "    \n",
    "    "
   ]
  },
  {
   "cell_type": "code",
   "execution_count": 3,
   "id": "75a9e037",
   "metadata": {},
   "outputs": [
    {
     "name": "stdout",
     "output_type": "stream",
     "text": [
      "[-1.51, -539.3631255822339, 3.0328254750528396, -30.308360128617363, -12.019704433497537, -0.001142364532019699, 16.2266, -12.019704433497537, 2.485530622942818, 1.0994, -32.84495258692874]\n"
     ]
    },
    {
     "name": "stderr",
     "output_type": "stream",
     "text": [
      "C:\\Users\\luffy\\anaconda3\\lib\\site-packages\\scipy\\integrate\\odepack.py:247: ODEintWarning: Excess work done on this call (perhaps wrong Dfun type). Run with full_output = 1 to get quantitative information.\n",
      "  warnings.warn(warning_msg, ODEintWarning)\n"
     ]
    },
    {
     "data": {
      "image/png": "[encoded data removed]",
      "text/plain": [
       "<Figure size 432x288 with 1 Axes>"
      ]
     },
     "metadata": {
      "needs_background": "light"
     },
     "output_type": "display_data"
    }
   ],
   "source": [
    "import numpy as np\n",
    "from scipy.integrate import odeint\n",
    "import matplotlib.pyplot as plt\n",
    "\n",
    "def odes (x,t):\n",
    "    Kag = 0.0151     # First order absorbtion \n",
    "    Q = 0.442        # Intercompartmental Clearance\n",
    "    CLg = 0.0287     # Insulin independent clearance\n",
    "    CLgi = 0.0074    # Insulin dependent clearance\n",
    "    Gss = 158        # Glucose in central compartment at steady state\n",
    "    Kge = 0.123      # equilibration rate constant\n",
    "    Iss = 10         # Insulin concetration at steady state\n",
    "    CLi = 1.22       # Insulin clearance\n",
    "    Sincr = 0.000994 # Slope of linear relation ship\n",
    "    Kie = 0.00773    # Equilibratio rate constant to and from the Insulin effect compartment\n",
    "    IPRG = 1.42      # Estimated Power in the relation ship\n",
    "    Vp = 8.56        # Volume of peripheral \n",
    "    Vg = 9.33        # Volume of central\n",
    "    Vi = 6.09        # Volume of Insulin\n",
    "    \n",
    "    \n",
    "\n",
    "    Ga    = x[0]\n",
    "    Gc    = x[1]\n",
    "    Gp    = x[2]\n",
    "    Ge    = x[3]\n",
    "    I     = x[4]\n",
    "    Ie    = x[5]\n",
    "    Gprod = x[6]\n",
    "    Isec0 = x[7]\n",
    "    Gcm   = x[8]\n",
    "    Iabsg = x[9]\n",
    "    Isec  = x[10]\n",
    "    \n",
    "    dGadt = -Ga*Kag     # IC Ga = 0 \n",
    "    dGcdt = Kag*Ga + Gprod + (Q/Vp)* Gp-(CLg+ CLgi + Ie + Q)*(Gc/Vg) #IC Gc0 = Gss * Vg\n",
    "    dGpdt = Q * ((Gc/Vg) - (Gp/Vp)) # IC Gp0 = Gss * Vp\n",
    "    dGedt = Kge * (Gc/Vg) - Kge * Ge  # IC Ge0 = Gss  \n",
    "    dIdt  = Isec - (CLi/Vi) * I     # IC I0 = Iss * Vi\n",
    "    dIedt = Kie * (I/Vi) - Kie * Ie  # IC Ie0 = Iss\n",
    "    Gprod = Gss* (CLg + (CLgi*Iss))\n",
    "    Isec0 = Isec - (CLi/Vi)*I\n",
    "    Gcm   = (Ge/Gss)**IPRG\n",
    "    Iabsg = 1 + Sincr*Ga\n",
    "    Isec  = Isec0 * Gcm * Iabsg\n",
    "    \n",
    "    return [dGadt, dGcdt, dGpdt, dGedt, dIdt, dIedt, Gprod, Isec0, Gcm, Iabsg, Isec]\n",
    "\n",
    "\n",
    "x0 = [100, 500, 400, 300, 60, 10, 0, 10, 0, 0, 0 ] \n",
    "\n",
    "print(odes(x=x0,t=0))\n",
    "\n",
    "t = np.linspace(0,10,200)\n",
    "    \n",
    "x = odeint(odes,x0,t)\n",
    "    \n",
    "Ga    = x[:,0]\n",
    "Gc    = x[:,1]\n",
    "Gp    = x[:,2]\n",
    "Ge    = x[:,3]\n",
    "I     = x[:,4]\n",
    "Ie    = x[:,5]\n",
    "Gprod = x[:,6]\n",
    "Isec0 = x[:,7]\n",
    "Gcm   = x[:,8]\n",
    "Iabsg = x[:,9]\n",
    "Isec  = x[:,10]\n",
    "    \n",
    "\n",
    "    \n",
    "plt.plot(t,Ga, \"g\")\n",
    "plt.plot(t,Gc, \"b\")\n",
    "plt.plot(t,Gp, \"r\")\n",
    "plt.plot(t,Ge, \"y\")\n",
    "plt.plot(t,I,  \"p\")\n",
    "plt.plot(t,Ie, \"m\")\n",
    "plt.show()\n",
    "    \n",
    "Gc    = x[0:160,1]\n",
    "plt.plot(t,Gc, \"b\")  \n",
    "    "
   ]
  },
  {
   "cell_type": "code",
   "execution_count": 15,
   "id": "93af1f88",
   "metadata": {},
   "outputs": [
    {
     "ename": "SyntaxError",
     "evalue": "invalid syntax (<ipython-input-15-49c8b6633a4f>, line 1)",
     "output_type": "error",
     "traceback": [
      "\u001b[1;36m  File \u001b[1;32m\"<ipython-input-15-49c8b6633a4f>\"\u001b[1;36m, line \u001b[1;32m1\u001b[0m\n\u001b[1;33m    pip install tabulate\u001b[0m\n\u001b[1;37m        ^\u001b[0m\n\u001b[1;31mSyntaxError\u001b[0m\u001b[1;31m:\u001b[0m invalid syntax\n"
     ]
    }
   ],
   "source": [
    "pip install tabulate\n",
    "from tabulate import tabulate\n",
    "\n",
    "t2 = t[0:160]\n",
    "Gc2   = x[0:160,1]\n",
    "plt.plot(t2,Gc2, \"b\")  \n",
    "print (t, Gc,Gp,Ga)\n",
    "\n",
    "data = [[t],[Gp],[Gc],[Ga]] \n",
    "print (tabulate(data, headers=[\"time\", \"Gp\", \"Gc\", \"Ga\"]))\n",
    "\n",
    "from tabulate import tabulate\n",
    "data = [[1, 'Liquid', 24, 12],\n",
    "[2, 'Virtus.pro', 19, 14],\n",
    "[3, 'PSG.LGD', 15, 19],\n",
    "[4,'Team Secret', 10, 20]] \n",
    "print (tabulate(data, headers=[\"Pos\", \"Team\", \"Win\", \"Lose\"]))"
   ]
  },
  {
   "cell_type": "code",
   "execution_count": 16,
   "id": "9577078f",
   "metadata": {},
   "outputs": [
    {
     "ename": "SyntaxError",
     "evalue": "invalid syntax (<ipython-input-16-3f8191856515>, line 1)",
     "output_type": "error",
     "traceback": [
      "\u001b[1;36m  File \u001b[1;32m\"<ipython-input-16-3f8191856515>\"\u001b[1;36m, line \u001b[1;32m1\u001b[0m\n\u001b[1;33m    pip install tabulate\u001b[0m\n\u001b[1;37m        ^\u001b[0m\n\u001b[1;31mSyntaxError\u001b[0m\u001b[1;31m:\u001b[0m invalid syntax\n"
     ]
    }
   ],
   "source": [
    "pip install tabulate\n",
    "from tabulate import tabulate\n"
   ]
  },
  {
   "cell_type": "code",
   "execution_count": null,
   "id": "2882bbe7",
   "metadata": {},
   "outputs": [],
   "source": []
  }
 ],
 "metadata": {
  "kernelspec": {
   "display_name": "Python 3",
   "language": "python",
   "name": "python3"
  },
  "language_info": {
   "codemirror_mode": {
    "name": "ipython",
    "version": 3
   },
   "file_extension": ".py",
   "mimetype": "text/x-python",
   "name": "python",
   "nbconvert_exporter": "python",
   "pygments_lexer": "ipython3",
   "version": "3.8.8"
  }
 },
 "nbformat": 4,
 "nbformat_minor": 5
}
